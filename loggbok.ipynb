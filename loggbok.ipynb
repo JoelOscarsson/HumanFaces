{
 "cells": [
  {
   "attachments": {},
   "cell_type": "markdown",
   "metadata": {},
   "source": [
    "### This is just roadmap/plan for where i am in the project generally. Will comment in the code aswell but this is more comprehensive"
   ]
  },
  {
   "attachments": {},
   "cell_type": "markdown",
   "metadata": {},
   "source": [
    "### TODO: Install all relevant stuff, (have some things to go i think) and continue on the pre installing\n",
    "### TODO: Import new dataset that has \"worse pictures\""
   ]
  },
  {
   "attachments": {},
   "cell_type": "markdown",
   "metadata": {},
   "source": []
  }
 ],
 "metadata": {
  "kernelspec": {
   "display_name": "HumanFaces-wITsOvhi",
   "language": "python",
   "name": "python3"
  },
  "language_info": {
   "name": "python",
   "version": "3.9.13"
  },
  "orig_nbformat": 4
 },
 "nbformat": 4,
 "nbformat_minor": 2
}
