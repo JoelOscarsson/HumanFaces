{
 "cells": [
  {
   "cell_type": "code",
   "execution_count": 1,
   "metadata": {},
   "outputs": [
    {
     "ename": "ModuleNotFoundError",
     "evalue": "No module named 'detectron2'",
     "output_type": "error",
     "traceback": [
      "\u001b[0;31m---------------------------------------------------------------------------\u001b[0m",
      "\u001b[0;31mModuleNotFoundError\u001b[0m                       Traceback (most recent call last)",
      "Cell \u001b[0;32mIn[1], line 2\u001b[0m\n\u001b[1;32m      1\u001b[0m \u001b[39m# installing packages\u001b[39;00m\n\u001b[0;32m----> 2\u001b[0m \u001b[39mimport\u001b[39;00m \u001b[39mdetectron2\u001b[39;00m\u001b[39m,\u001b[39m \u001b[39mtorch\u001b[39;00m\u001b[39m,\u001b[39m \u001b[39mtorchvision\u001b[39;00m\n\u001b[1;32m      3\u001b[0m \u001b[39mimport\u001b[39;00m \u001b[39msys\u001b[39;00m\u001b[39m,\u001b[39m \u001b[39mos\u001b[39;00m\u001b[39m,\u001b[39m \u001b[39mdistutils\u001b[39;00m\u001b[39m.\u001b[39;00m\u001b[39mcore\u001b[39;00m\n",
      "\u001b[0;31mModuleNotFoundError\u001b[0m: No module named 'detectron2'"
     ]
    }
   ],
   "source": [
    "# installing packages\n",
    "import detectron2, torch, torchvision\n",
    "import sys, os, distutils.core"
   ]
  },
  {
   "cell_type": "code",
   "execution_count": 2,
   "metadata": {},
   "outputs": [
    {
     "name": "stdout",
     "output_type": "stream",
     "text": [
      "Requirement already satisfied: pyyaml==5.1 in /Library/Frameworks/Python.framework/Versions/3.9/lib/python3.9/site-packages (5.1)\n",
      "2.0.1 False\n",
      "Cloning into 'detectron2_repo'...\n",
      "remote: Enumerating objects: 15038, done.\u001b[K\n",
      "remote: Counting objects: 100% (63/63), done.\u001b[K\n",
      "remote: Compressing objects: 100% (40/40), done.\u001b[K\n",
      "remote: Total 15038 (delta 29), reused 48 (delta 23), pack-reused 14975\u001b[K\n",
      "Receiving objects: 100% (15038/15038), 6.12 MiB | 12.31 MiB/s, done.\n",
      "Resolving deltas: 100% (10892/10892), done.\n",
      "Note: switching to 'd1e04565d3bec8719335b88be9e9b961bf3ec464'.\n",
      "\n",
      "You are in 'detached HEAD' state. You can look around, make experimental\n",
      "changes and commit them, and you can discard any commits you make in this\n",
      "state without impacting any branches by switching back to a branch.\n",
      "\n",
      "If you want to create a new branch to retain commits you create, you may\n",
      "do so (now or later) by using -c with the switch command. Example:\n",
      "\n",
      "  git switch -c <new-branch-name>\n",
      "\n",
      "Or undo this operation with:\n",
      "\n",
      "  git switch -\n",
      "\n",
      "Turn off this advice by setting config variable advice.detachedHead to false\n",
      "\n",
      "Obtaining file:///Users/joeloscarsson/Documents/www/HumanFaces/detectron2_repo\n",
      "  Installing build dependencies ... \u001b[?25ldone\n",
      "\u001b[?25h  Checking if build backend supports build_editable ... \u001b[?25ldone\n",
      "\u001b[?25h  Getting requirements to build editable ... \u001b[?25lerror\n",
      "  \u001b[1;31merror\u001b[0m: \u001b[1msubprocess-exited-with-error\u001b[0m\n",
      "  \n",
      "  \u001b[31m×\u001b[0m \u001b[32mGetting requirements to build editable\u001b[0m did not run successfully.\n",
      "  \u001b[31m│\u001b[0m exit code: \u001b[1;36m1\u001b[0m\n",
      "  \u001b[31m╰─>\u001b[0m \u001b[31m[19 lines of output]\u001b[0m\n",
      "  \u001b[31m   \u001b[0m Traceback (most recent call last):\n",
      "  \u001b[31m   \u001b[0m   File \"/Library/Frameworks/Python.framework/Versions/3.9/lib/python3.9/site-packages/pip/_vendor/pyproject_hooks/_in_process/_in_process.py\", line 353, in <module>\n",
      "  \u001b[31m   \u001b[0m     main()\n",
      "  \u001b[31m   \u001b[0m   File \"/Library/Frameworks/Python.framework/Versions/3.9/lib/python3.9/site-packages/pip/_vendor/pyproject_hooks/_in_process/_in_process.py\", line 335, in main\n",
      "  \u001b[31m   \u001b[0m     json_out['return_val'] = hook(**hook_input['kwargs'])\n",
      "  \u001b[31m   \u001b[0m   File \"/Library/Frameworks/Python.framework/Versions/3.9/lib/python3.9/site-packages/pip/_vendor/pyproject_hooks/_in_process/_in_process.py\", line 132, in get_requires_for_build_editable\n",
      "  \u001b[31m   \u001b[0m     return hook(config_settings)\n",
      "  \u001b[31m   \u001b[0m   File \"/private/var/folders/q6/3g_x1fsd1gj1bssql2_z81c40000gn/T/pip-build-env-lwqwh19l/overlay/lib/python3.9/site-packages/setuptools/build_meta.py\", line 450, in get_requires_for_build_editable\n",
      "  \u001b[31m   \u001b[0m     return self.get_requires_for_build_wheel(config_settings)\n",
      "  \u001b[31m   \u001b[0m   File \"/private/var/folders/q6/3g_x1fsd1gj1bssql2_z81c40000gn/T/pip-build-env-lwqwh19l/overlay/lib/python3.9/site-packages/setuptools/build_meta.py\", line 341, in get_requires_for_build_wheel\n",
      "  \u001b[31m   \u001b[0m     return self._get_build_requires(config_settings, requirements=['wheel'])\n",
      "  \u001b[31m   \u001b[0m   File \"/private/var/folders/q6/3g_x1fsd1gj1bssql2_z81c40000gn/T/pip-build-env-lwqwh19l/overlay/lib/python3.9/site-packages/setuptools/build_meta.py\", line 323, in _get_build_requires\n",
      "  \u001b[31m   \u001b[0m     self.run_setup()\n",
      "  \u001b[31m   \u001b[0m   File \"/private/var/folders/q6/3g_x1fsd1gj1bssql2_z81c40000gn/T/pip-build-env-lwqwh19l/overlay/lib/python3.9/site-packages/setuptools/build_meta.py\", line 487, in run_setup\n",
      "  \u001b[31m   \u001b[0m     super(_BuildMetaLegacyBackend,\n",
      "  \u001b[31m   \u001b[0m   File \"/private/var/folders/q6/3g_x1fsd1gj1bssql2_z81c40000gn/T/pip-build-env-lwqwh19l/overlay/lib/python3.9/site-packages/setuptools/build_meta.py\", line 338, in run_setup\n",
      "  \u001b[31m   \u001b[0m     exec(code, locals())\n",
      "  \u001b[31m   \u001b[0m   File \"<string>\", line 10, in <module>\n",
      "  \u001b[31m   \u001b[0m ModuleNotFoundError: No module named 'torch'\n",
      "  \u001b[31m   \u001b[0m \u001b[31m[end of output]\u001b[0m\n",
      "  \n",
      "  \u001b[1;35mnote\u001b[0m: This error originates from a subprocess, and is likely not a problem with pip.\n",
      "\u001b[?25h\u001b[1;31merror\u001b[0m: \u001b[1msubprocess-exited-with-error\u001b[0m\n",
      "\n",
      "\u001b[31m×\u001b[0m \u001b[32mGetting requirements to build editable\u001b[0m did not run successfully.\n",
      "\u001b[31m│\u001b[0m exit code: \u001b[1;36m1\u001b[0m\n",
      "\u001b[31m╰─>\u001b[0m See above for output.\n",
      "\n",
      "\u001b[1;35mnote\u001b[0m: This error originates from a subprocess, and is likely not a problem with pip.\n"
     ]
    },
    {
     "ename": "ModuleNotFoundError",
     "evalue": "No module named 'detectron2'",
     "output_type": "error",
     "traceback": [
      "\u001b[0;31m---------------------------------------------------------------------------\u001b[0m",
      "\u001b[0;31mModuleNotFoundError\u001b[0m                       Traceback (most recent call last)",
      "Cell \u001b[0;32mIn[2], line 16\u001b[0m\n\u001b[1;32m     10\u001b[0m get_ipython()\u001b[39m.\u001b[39msystem(\u001b[39m'\u001b[39m\u001b[39mpip install -e detectron2_repo\u001b[39m\u001b[39m'\u001b[39m)\n\u001b[1;32m     11\u001b[0m \u001b[39m# See https://detectron2.readthedocs.io/tutorials/install.html for other installation options\u001b[39;00m\n\u001b[1;32m     12\u001b[0m \n\u001b[1;32m     13\u001b[0m \u001b[39m#You may need to restart your runtime prior to this, to let your installation take effect\u001b[39;00m\n\u001b[1;32m     14\u001b[0m \u001b[39m# Some basic setup:\u001b[39;00m\n\u001b[1;32m     15\u001b[0m \u001b[39m# Setup detectron2 logger\u001b[39;00m\n\u001b[0;32m---> 16\u001b[0m \u001b[39mimport\u001b[39;00m \u001b[39mdetectron2\u001b[39;00m\n\u001b[1;32m     17\u001b[0m \u001b[39mfrom\u001b[39;00m \u001b[39mdetectron2\u001b[39;00m\u001b[39m.\u001b[39;00m\u001b[39mutils\u001b[39;00m\u001b[39m.\u001b[39;00m\u001b[39mlogger\u001b[39;00m \u001b[39mimport\u001b[39;00m setup_logger\n\u001b[1;32m     18\u001b[0m setup_logger()\n",
      "\u001b[0;31mModuleNotFoundError\u001b[0m: No module named 'detectron2'"
     ]
    }
   ],
   "source": [
    "# # install dependencies: \n",
    "# !pip install pyyaml==5.1\n",
    "# # check pytorch installation: \n",
    "# import torch, torchvision\n",
    "# print(torch.__version__, torch.cuda.is_available())\n",
    "\n",
    "# # clone the repo in order to access pre-defined configs in PointRend project\n",
    "# !git clone --branch v0.6 https://github.com/facebookresearch/detectron2.git detectron2_repo\n",
    "# # install detectron2 from source\n",
    "# !pip install -e detectron2_repo\n",
    "# # See https://detectron2.readthedocs.io/tutorials/install.html for other installation options\n",
    "\n",
    "# #You may need to restart your runtime prior to this, to let your installation take effect\n",
    "# # Some basic setup:\n",
    "# # Setup detectron2 logger\n",
    "# import detectron2\n",
    "# from detectron2.utils.logger import setup_logger\n",
    "# setup_logger()\n",
    "\n",
    "# # import some common libraries\n",
    "# import numpy as np\n",
    "# import cv2\n",
    "# import torch\n"
   ]
  },
  {
   "cell_type": "code",
   "execution_count": 1,
   "metadata": {},
   "outputs": [],
   "source": [
    "# Register my dataset\n",
    "\n",
    "def my_dataset_function():\n",
    "    ...\n",
    "    return list[dict] in the followin"
   ]
  },
  {
   "cell_type": "code",
   "execution_count": null,
   "metadata": {},
   "outputs": [],
   "source": [
    "from detectron2.structures import BoxMode\n",
    "\n",
    "\n",
    "def get_pictures_dicts(img_dir):\n"
   ]
  },
  {
   "cell_type": "code",
   "execution_count": null,
   "metadata": {},
   "outputs": [],
   "source": []
  }
 ],
 "metadata": {
  "kernelspec": {
   "display_name": "Python 3",
   "language": "python",
   "name": "python3"
  },
  "language_info": {
   "codemirror_mode": {
    "name": "ipython",
    "version": 3
   },
   "file_extension": ".py",
   "mimetype": "text/x-python",
   "name": "python",
   "nbconvert_exporter": "python",
   "pygments_lexer": "ipython3",
   "version": "3.9.13"
  },
  "orig_nbformat": 4
 },
 "nbformat": 4,
 "nbformat_minor": 2
}
