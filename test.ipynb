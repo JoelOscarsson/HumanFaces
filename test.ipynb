{
 "cells": [
  {
   "cell_type": "code",
   "execution_count": 2,
   "metadata": {},
   "outputs": [],
   "source": [
    "# !python -m pip install pyyaml==5.1\n",
    "# import sys, os, distutils.core\n",
    "# Note: This is a faster way to install detectron2 in Colab, but it does not include all functionalities.\n",
    "# See https://detectron2.readthedocs.io/tutorials/install.html for full installation instructions\n",
    "# !git clone 'https://github.com/facebookresearch/detectron2'\n",
    "# dist = distutils.core.run_setup(\"./detectron2/setup.py\")\n",
    "# !python -m pip install {' '.join([f\"'{x}'\" for x in dist.install_requires])}\n",
    "# sys.path.insert(0, os.path.abspath('./detectron2'))\n",
    "\n",
    "# Properly install detectron2. (Please do not install twice in both ways)\n",
    "# !python -m pip install 'git+https://github.com/facebookresearch/detectron2.git'"
   ]
  },
  {
   "cell_type": "code",
   "execution_count": 4,
   "metadata": {},
   "outputs": [],
   "source": [
    "### Project\n",
    "### TODO: Check what it means gcc & g++ required\n",
    "\n",
    "### TODO: Installed gcc , but seems like g++ is not required? Keep this note if it starts breaking ** Update it is installed for macos in gcc\n",
    "### TODO: Install the detectron i can use it on custom dataset"
   ]
  },
  {
   "cell_type": "code",
   "execution_count": null,
   "metadata": {},
   "outputs": [],
   "source": []
  },
  {
   "attachments": {},
   "cell_type": "markdown",
   "metadata": {},
   "source": [
    "###  Just messing about with the faces file. will work with this later"
   ]
  },
  {
   "cell_type": "code",
   "execution_count": 21,
   "metadata": {},
   "outputs": [
    {
     "name": "stdout",
     "output_type": "stream",
     "text": [
      "        image_name  width  height   x0   y0    x1   y1\n",
      "0     00001722.jpg   1333    2000  490  320   687  664\n",
      "1     00001044.jpg   2000    1333  791  119  1200  436\n",
      "2     00001050.jpg    667    1000  304  155   407  331\n",
      "3     00001736.jpg    626     417  147   14   519  303\n",
      "4     00003121.jpg    626     418  462   60   599  166\n",
      "...            ...    ...     ...  ...  ...   ...  ...\n",
      "3345  00002232.jpg    620     349    4   36   186  158\n",
      "3346  00002232.jpg    620     349  122  103   344  248\n",
      "3347  00002232.jpg    620     349  258  118   541  303\n",
      "3348  00002232.jpg    620     349  215   11   362  108\n",
      "3349  00002232.jpg    620     349  330    1   487   81\n",
      "\n",
      "[3350 rows x 7 columns]\n"
     ]
    }
   ],
   "source": [
    "import os\n",
    "import pandas as pd\n",
    "\n",
    "\n",
    "\n",
    "relative_path = 'assets/archive/faces.csv'\n",
    "\n",
    "df = pd.read_csv(os.path.join(os.getcwd(), relative_path))\n",
    "df = pd.DataFrame(df)\n",
    "# Print the resulting DataFrame\n",
    "print(df)\n"
   ]
  },
  {
   "cell_type": "code",
   "execution_count": 19,
   "metadata": {},
   "outputs": [
    {
     "name": "stdout",
     "output_type": "stream",
     "text": [
      "<class 'pandas.core.frame.DataFrame'>\n",
      "RangeIndex: 3350 entries, 0 to 3349\n",
      "Data columns (total 7 columns):\n",
      " #   Column      Non-Null Count  Dtype \n",
      "---  ------      --------------  ----- \n",
      " 0   image_name  3350 non-null   object\n",
      " 1   width       3350 non-null   int64 \n",
      " 2   height      3350 non-null   int64 \n",
      " 3   x0          3350 non-null   int64 \n",
      " 4   y0          3350 non-null   int64 \n",
      " 5   x1          3350 non-null   int64 \n",
      " 6   y1          3350 non-null   int64 \n",
      "dtypes: int64(6), object(1)\n",
      "memory usage: 183.3+ KB\n"
     ]
    }
   ],
   "source": [
    "file_path.info()"
   ]
  },
  {
   "cell_type": "code",
   "execution_count": null,
   "metadata": {},
   "outputs": [],
   "source": []
  }
 ],
 "metadata": {
  "kernelspec": {
   "display_name": "Python 3",
   "language": "python",
   "name": "python3"
  },
  "language_info": {
   "codemirror_mode": {
    "name": "ipython",
    "version": 3
   },
   "file_extension": ".py",
   "mimetype": "text/x-python",
   "name": "python",
   "nbconvert_exporter": "python",
   "pygments_lexer": "ipython3",
   "version": "3.9.13"
  },
  "orig_nbformat": 4
 },
 "nbformat": 4,
 "nbformat_minor": 2
}
