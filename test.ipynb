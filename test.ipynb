{
 "cells": [
  {
   "cell_type": "code",
   "execution_count": 1,
   "metadata": {},
   "outputs": [
    {
     "name": "stdout",
     "output_type": "stream",
     "text": [
      "/System/Library/Frameworks/Python.framework/Versions/2.7/Resources/Python.app/Contents/MacOS/Python: No module named pip\n",
      "Cloning into 'detectron2'...\n",
      "remote: Enumerating objects: 15038, done.\u001b[K\n",
      "remote: Counting objects: 100% (63/63), done.\u001b[K\n",
      "remote: Compressing objects: 100% (40/40), done.\u001b[K\n",
      "remote: Total 15038 (delta 29), reused 48 (delta 23), pack-reused 14975\u001b[K\n",
      "Receiving objects: 100% (15038/15038), 6.12 MiB | 16.93 MiB/s, done.\n",
      "Resolving deltas: 100% (10892/10892), done.\n"
     ]
    },
    {
     "ename": "ModuleNotFoundError",
     "evalue": "No module named 'torch'",
     "output_type": "error",
     "traceback": [
      "\u001b[0;31m---------------------------------------------------------------------------\u001b[0m",
      "\u001b[0;31mModuleNotFoundError\u001b[0m                       Traceback (most recent call last)",
      "Cell \u001b[0;32mIn[1], line 6\u001b[0m\n\u001b[1;32m      3\u001b[0m \u001b[39m# Note: This is a faster way to install detectron2 in Colab, but it does not include all functionalities.\u001b[39;00m\n\u001b[1;32m      4\u001b[0m \u001b[39m# See https://detectron2.readthedocs.io/tutorials/install.html for full installation instructions\u001b[39;00m\n\u001b[1;32m      5\u001b[0m get_ipython()\u001b[39m.\u001b[39msystem(\u001b[39m\"\u001b[39m\u001b[39mgit clone \u001b[39m\u001b[39m'\u001b[39m\u001b[39mhttps://github.com/facebookresearch/detectron2\u001b[39m\u001b[39m'\u001b[39m\u001b[39m\"\u001b[39m)\n\u001b[0;32m----> 6\u001b[0m dist \u001b[39m=\u001b[39m distutils\u001b[39m.\u001b[39;49mcore\u001b[39m.\u001b[39;49mrun_setup(\u001b[39m\"\u001b[39;49m\u001b[39m./detectron2/setup.py\u001b[39;49m\u001b[39m\"\u001b[39;49m)\n\u001b[1;32m      7\u001b[0m get_ipython()\u001b[39m.\u001b[39msystem(\u001b[39m'\u001b[39m\u001b[39mpython -m pip install \u001b[39m\u001b[39m{\u001b[39m\u001b[39m\\'\u001b[39;00m\u001b[39m \u001b[39m\u001b[39m\\'\u001b[39;00m\u001b[39m.join([f\u001b[39m\u001b[39m\"\u001b[39m\u001b[39m\\'\u001b[39;00m\u001b[39m{x}\u001b[39;00m\u001b[39m\\'\u001b[39;00m\u001b[39m\"\u001b[39m\u001b[39m for x in dist.install_requires])}\u001b[39m\u001b[39m'\u001b[39m)\n\u001b[1;32m      8\u001b[0m sys\u001b[39m.\u001b[39mpath\u001b[39m.\u001b[39minsert(\u001b[39m0\u001b[39m, os\u001b[39m.\u001b[39mpath\u001b[39m.\u001b[39mabspath(\u001b[39m'\u001b[39m\u001b[39m./detectron2\u001b[39m\u001b[39m'\u001b[39m))\n",
      "File \u001b[0;32m/Library/Frameworks/Python.framework/Versions/3.9/lib/python3.9/distutils/core.py:215\u001b[0m, in \u001b[0;36mrun_setup\u001b[0;34m(script_name, script_args, stop_after)\u001b[0m\n\u001b[1;32m    213\u001b[0m         sys\u001b[39m.\u001b[39margv[\u001b[39m1\u001b[39m:] \u001b[39m=\u001b[39m script_args\n\u001b[1;32m    214\u001b[0m     \u001b[39mwith\u001b[39;00m \u001b[39mopen\u001b[39m(script_name, \u001b[39m'\u001b[39m\u001b[39mrb\u001b[39m\u001b[39m'\u001b[39m) \u001b[39mas\u001b[39;00m f:\n\u001b[0;32m--> 215\u001b[0m         exec(f\u001b[39m.\u001b[39;49mread(), g)\n\u001b[1;32m    216\u001b[0m \u001b[39mfinally\u001b[39;00m:\n\u001b[1;32m    217\u001b[0m     sys\u001b[39m.\u001b[39margv \u001b[39m=\u001b[39m save_argv\n",
      "File \u001b[0;32m<string>:10\u001b[0m\n",
      "\u001b[0;31mModuleNotFoundError\u001b[0m: No module named 'torch'"
     ]
    }
   ],
   "source": [
    "!python -m pip install pyyaml==5.1\n",
    "import sys, os, distutils.core\n",
    "# Note: This is a faster way to install detectron2 in Colab, but it does not include all functionalities.\n",
    "# See https://detectron2.readthedocs.io/tutorials/install.html for full installation instructions\n",
    "!git clone 'https://github.com/facebookresearch/detectron2'\n",
    "dist = distutils.core.run_setup(\"./detectron2/setup.py\")\n",
    "!python -m pip install {' '.join([f\"'{x}'\" for x in dist.install_requires])}\n",
    "sys.path.insert(0, os.path.abspath('./detectron2'))\n",
    "\n",
    "# Properly install detectron2. (Please do not install twice in both ways)\n",
    "# !python -m pip install 'git+https://github.com/facebookresearch/detectron2.git'"
   ]
  }
 ],
 "metadata": {
  "kernelspec": {
   "display_name": "Python 3",
   "language": "python",
   "name": "python3"
  },
  "language_info": {
   "codemirror_mode": {
    "name": "ipython",
    "version": 3
   },
   "file_extension": ".py",
   "mimetype": "text/x-python",
   "name": "python",
   "nbconvert_exporter": "python",
   "pygments_lexer": "ipython3",
   "version": "3.9.13"
  },
  "orig_nbformat": 4
 },
 "nbformat": 4,
 "nbformat_minor": 2
}
